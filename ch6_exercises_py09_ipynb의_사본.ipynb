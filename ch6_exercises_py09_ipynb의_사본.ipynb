{
  "nbformat": 4,
  "nbformat_minor": 0,
  "metadata": {
    "colab": {
      "name": "ch6_exercises_py09.ipynb의 사본",
      "provenance": [],
      "collapsed_sections": [],
      "include_colab_link": true
    },
    "kernelspec": {
      "name": "python3",
      "display_name": "Python 3"
    }
  },
  "cells": [
    {
      "cell_type": "markdown",
      "metadata": {
        "id": "view-in-github",
        "colab_type": "text"
      },
      "source": [
        "<a href=\"https://colab.research.google.com/github/rudckd0103/py08/blob/master/ch6_exercises_py09_ipynb%EC%9D%98_%EC%82%AC%EB%B3%B8.ipynb\" target=\"_parent\"><img src=\"https://colab.research.google.com/assets/colab-badge.svg\" alt=\"Open In Colab\"/></a>"
      ]
    },
    {
      "cell_type": "markdown",
      "metadata": {
        "id": "FvpL2Bmf38CD",
        "colab_type": "text"
      },
      "source": [
        "문제 1. 내가 프로그램을 만들 수 있을까?"
      ]
    },
    {
      "cell_type": "code",
      "metadata": {
        "id": "xHjpQwoT4DMH",
        "colab_type": "code",
        "colab": {}
      },
      "source": [
        "def GuGu(n):\n",
        "    result = []\n",
        "    i = 1\n",
        "    while i < 10:\n",
        "        result.append(n * i)\n",
        "        i = i + 1\n",
        "    return result"
      ],
      "execution_count": 0,
      "outputs": []
    },
    {
      "cell_type": "code",
      "metadata": {
        "id": "c_9rXOQW4Iuv",
        "colab_type": "code",
        "outputId": "5cc95b7c-a062-4422-a4e3-592a209392b4",
        "colab": {
          "base_uri": "https://localhost:8080/",
          "height": 34
        }
      },
      "source": [
        "print(GuGu(2))"
      ],
      "execution_count": 0,
      "outputs": [
        {
          "output_type": "stream",
          "text": [
            "[2, 4, 6, 8, 10, 12, 14, 16, 18]\n"
          ],
          "name": "stdout"
        }
      ]
    },
    {
      "cell_type": "markdown",
      "metadata": {
        "id": "bx5AW_YC4OOf",
        "colab_type": "text"
      },
      "source": [
        "문제 2. 3과 5의 배수 합하기"
      ]
    },
    {
      "cell_type": "code",
      "metadata": {
        "id": "J2Ki8BUB5OQh",
        "colab_type": "code",
        "outputId": "69ae94b0-06cb-4132-e008-ddd2ad741c51",
        "colab": {
          "base_uri": "https://localhost:8080/",
          "height": 34
        }
      },
      "source": [
        "result = 0\n",
        "for n in range(1, 1000):\n",
        "    if n % 3 == 0 or n % 5 == 0:\n",
        "        result += n\n",
        "print(result) "
      ],
      "execution_count": 0,
      "outputs": [
        {
          "output_type": "stream",
          "text": [
            "233168\n"
          ],
          "name": "stdout"
        }
      ]
    },
    {
      "cell_type": "markdown",
      "metadata": {
        "id": "Ek4A5Bch5SGc",
        "colab_type": "text"
      },
      "source": [
        "문제 3. 게시판 페이징하기"
      ]
    },
    {
      "cell_type": "code",
      "metadata": {
        "id": "nKpE66yt6Olu",
        "colab_type": "code",
        "colab": {}
      },
      "source": [
        "def getTotalPage(m, n):\n",
        "    if m % n == 0:\n",
        "        return m // n\n",
        "    else:\n",
        "        return m // n + 1"
      ],
      "execution_count": 0,
      "outputs": []
    },
    {
      "cell_type": "code",
      "metadata": {
        "id": "czXKT3by7y-O",
        "colab_type": "code",
        "outputId": "57e4f389-2c59-4b0b-99f2-fb26221b0043",
        "colab": {
          "base_uri": "https://localhost:8080/",
          "height": 87
        }
      },
      "source": [
        "print(getTotalPage(5, 10))\n",
        "print(getTotalPage(15, 10))\n",
        "print(getTotalPage(25, 10))\n",
        "print(getTotalPage(30, 10))"
      ],
      "execution_count": 0,
      "outputs": [
        {
          "output_type": "stream",
          "text": [
            "1\n",
            "2\n",
            "3\n",
            "3\n"
          ],
          "name": "stdout"
        }
      ]
    },
    {
      "cell_type": "markdown",
      "metadata": {
        "id": "n8Q8CuQ2XtsH",
        "colab_type": "text"
      },
      "source": [
        "문제 4. 메모장 만들기"
      ]
    },
    {
      "cell_type": "code",
      "metadata": {
        "id": "Emeh1eNjV_G_",
        "colab_type": "code",
        "outputId": "6acde9ee-8a2c-4096-ec95-6bf219061eba",
        "colab": {
          "base_uri": "https://localhost:8080/",
          "height": 34
        }
      },
      "source": [
        "ls"
      ],
      "execution_count": 0,
      "outputs": [
        {
          "output_type": "stream",
          "text": [
            "memo.py  \u001b[0m\u001b[01;34msample_data\u001b[0m/\n"
          ],
          "name": "stdout"
        }
      ]
    },
    {
      "cell_type": "code",
      "metadata": {
        "id": "s_WcIDoIY4Ru",
        "colab_type": "code",
        "colab": {}
      },
      "source": [
        "mkdir 'doit'"
      ],
      "execution_count": 0,
      "outputs": []
    },
    {
      "cell_type": "code",
      "metadata": {
        "id": "0oiIWilRZBOm",
        "colab_type": "code",
        "outputId": "542bdaca-864e-4316-e500-67af0492baa6",
        "colab": {
          "base_uri": "https://localhost:8080/",
          "height": 34
        }
      },
      "source": [
        "ls"
      ],
      "execution_count": 0,
      "outputs": [
        {
          "output_type": "stream",
          "text": [
            "\u001b[0m\u001b[01;34mdoit\u001b[0m/  memo.py  \u001b[01;34msample_data\u001b[0m/\n"
          ],
          "name": "stdout"
        }
      ]
    },
    {
      "cell_type": "code",
      "metadata": {
        "id": "hw5Tr78fZHWe",
        "colab_type": "code",
        "colab": {}
      },
      "source": [
        "mv memo.py ./doit/"
      ],
      "execution_count": 0,
      "outputs": []
    },
    {
      "cell_type": "code",
      "metadata": {
        "id": "ca0m-eATZupf",
        "colab_type": "code",
        "outputId": "7a9f8c86-5137-401e-89df-526ee8aed783",
        "colab": {
          "base_uri": "https://localhost:8080/",
          "height": 34
        }
      },
      "source": [
        "cd doit"
      ],
      "execution_count": 0,
      "outputs": [
        {
          "output_type": "stream",
          "text": [
            "/content/doit\n"
          ],
          "name": "stdout"
        }
      ]
    },
    {
      "cell_type": "code",
      "metadata": {
        "id": "gYI9vMIgZw_m",
        "colab_type": "code",
        "outputId": "5ca59ff5-b23b-47b3-ca57-03267ced5e56",
        "colab": {
          "base_uri": "https://localhost:8080/",
          "height": 34
        }
      },
      "source": [
        "pwd"
      ],
      "execution_count": 0,
      "outputs": [
        {
          "output_type": "execute_result",
          "data": {
            "text/plain": [
              "'/content/doit'"
            ]
          },
          "metadata": {
            "tags": []
          },
          "execution_count": 6
        }
      ]
    },
    {
      "cell_type": "code",
      "metadata": {
        "id": "WraamqXTZzKe",
        "colab_type": "code",
        "colab": {}
      },
      "source": [
        "!python memo.py -a \"Py coding is fun!!\""
      ],
      "execution_count": 0,
      "outputs": []
    },
    {
      "cell_type": "code",
      "metadata": {
        "id": "iWqVxBguaFxG",
        "colab_type": "code",
        "outputId": "8ea11b6b-5df4-4408-bde1-8a0cd3af2784",
        "colab": {
          "base_uri": "https://localhost:8080/",
          "height": 52
        }
      },
      "source": [
        "!python memo.py -v"
      ],
      "execution_count": 0,
      "outputs": [
        {
          "output_type": "stream",
          "text": [
            "Py coding is fun!!\n",
            "\n"
          ],
          "name": "stdout"
        }
      ]
    },
    {
      "cell_type": "markdown",
      "metadata": {
        "id": "-bU0jcndBjHj",
        "colab_type": "text"
      },
      "source": [
        "문제 5. 탭을 4개의 공백으로 바꾸기"
      ]
    },
    {
      "cell_type": "code",
      "metadata": {
        "id": "QaUbEP5vMojw",
        "colab_type": "code",
        "outputId": "aa37ed69-311d-4250-88eb-214f6624069d",
        "colab": {
          "base_uri": "https://localhost:8080/",
          "height": 34
        }
      },
      "source": [
        "cd .."
      ],
      "execution_count": 0,
      "outputs": [
        {
          "output_type": "stream",
          "text": [
            "/content\n"
          ],
          "name": "stdout"
        }
      ]
    },
    {
      "cell_type": "code",
      "metadata": {
        "id": "7N4ldtLwB5xp",
        "colab_type": "code",
        "outputId": "17ff4949-d073-41f4-cff8-26d74b64fd60",
        "colab": {
          "base_uri": "https://localhost:8080/",
          "height": 34
        }
      },
      "source": [
        "ls"
      ],
      "execution_count": 0,
      "outputs": [
        {
          "output_type": "stream",
          "text": [
            "a.txt  \u001b[0m\u001b[01;34mdoit\u001b[0m/  \u001b[01;34msample_data\u001b[0m/  sub_dir_search.py\n"
          ],
          "name": "stdout"
        }
      ]
    },
    {
      "cell_type": "code",
      "metadata": {
        "id": "W561QoS5MR1h",
        "colab_type": "code",
        "colab": {}
      },
      "source": [
        "mv a.txt ./doit/"
      ],
      "execution_count": 0,
      "outputs": []
    },
    {
      "cell_type": "code",
      "metadata": {
        "id": "ZzOjv8_EK-OW",
        "colab_type": "code",
        "colab": {}
      },
      "source": [
        "mv tabto4.py ./doit/"
      ],
      "execution_count": 0,
      "outputs": []
    },
    {
      "cell_type": "code",
      "metadata": {
        "id": "6qXNIR1TLHR2",
        "colab_type": "code",
        "outputId": "6ce1cd3e-d35d-4c47-d94e-e92bc9b34ae5",
        "colab": {
          "base_uri": "https://localhost:8080/",
          "height": 34
        }
      },
      "source": [
        "cd doit"
      ],
      "execution_count": 0,
      "outputs": [
        {
          "output_type": "stream",
          "text": [
            "/content/doit\n"
          ],
          "name": "stdout"
        }
      ]
    },
    {
      "cell_type": "code",
      "metadata": {
        "id": "PyqX4TLZLKwf",
        "colab_type": "code",
        "outputId": "4209f358-a75d-4501-b638-de342db1edfa",
        "colab": {
          "base_uri": "https://localhost:8080/",
          "height": 34
        }
      },
      "source": [
        "pwd"
      ],
      "execution_count": 0,
      "outputs": [
        {
          "output_type": "execute_result",
          "data": {
            "text/plain": [
              "'/content/doit'"
            ]
          },
          "metadata": {
            "tags": []
          },
          "execution_count": 14
        }
      ]
    },
    {
      "cell_type": "code",
      "metadata": {
        "id": "d-gSDmIsLQJ8",
        "colab_type": "code",
        "colab": {}
      },
      "source": [
        "!python tabto4.py a.txt b.txt"
      ],
      "execution_count": 0,
      "outputs": []
    },
    {
      "cell_type": "markdown",
      "metadata": {
        "id": "1keENNrbf9G_",
        "colab_type": "text"
      },
      "source": [
        "문제 6. 폴더 내의 특징 파일 검색"
      ]
    },
    {
      "cell_type": "code",
      "metadata": {
        "id": "VCziFrorhEnI",
        "colab_type": "code",
        "colab": {}
      },
      "source": [
        "'''\n",
        "import os\n",
        "\n",
        "def search(dirname):\n",
        "    try:\n",
        "        filenames = os.listdir(dirname)\n",
        "        for filename in filenames:\n",
        "            full_filename = os.path.join(dirname, filename)\n",
        "            if os.path.isdir(full_filename):\n",
        "                search(full_filename)\n",
        "            else:\n",
        "                ext = os.path.splitext(full_filename)[-1]\n",
        "                if ext == '.py': \n",
        "                    print(full_filename)\n",
        "    except PermissionError:\n",
        "        pass\n",
        "\n",
        "search(\"./\")\n",
        "'''"
      ],
      "execution_count": 0,
      "outputs": []
    },
    {
      "cell_type": "code",
      "metadata": {
        "id": "M4EJmmfLgupP",
        "colab_type": "code",
        "outputId": "f1297b23-81c5-4635-ea0b-79af87db4268",
        "colab": {
          "base_uri": "https://localhost:8080/",
          "height": 34
        }
      },
      "source": [
        "cd .."
      ],
      "execution_count": 0,
      "outputs": [
        {
          "output_type": "stream",
          "text": [
            "/content\n"
          ],
          "name": "stdout"
        }
      ]
    },
    {
      "cell_type": "code",
      "metadata": {
        "id": "C7R2yqkDgK0Y",
        "colab_type": "code",
        "outputId": "84f0e65e-57db-45ed-e071-277008371252",
        "colab": {
          "base_uri": "https://localhost:8080/",
          "height": 52
        }
      },
      "source": [
        "!python sub_dir_search.py"
      ],
      "execution_count": 0,
      "outputs": [
        {
          "output_type": "stream",
          "text": [
            "./doit/memo.py\n",
            "./sub_dir_search.py\n"
          ],
          "name": "stdout"
        }
      ]
    }
  ]
}
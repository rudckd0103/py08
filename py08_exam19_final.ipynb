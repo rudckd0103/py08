{
  "nbformat": 4,
  "nbformat_minor": 0,
  "metadata": {
    "colab": {
      "name": "py00_exam19_final",
      "provenance": [],
      "collapsed_sections": [],
      "include_colab_link": true
    },
    "kernelspec": {
      "display_name": "Python 3",
      "language": "python",
      "name": "python3"
    }
  },
  "cells": [
    {
      "cell_type": "markdown",
      "metadata": {
        "id": "view-in-github",
        "colab_type": "text"
      },
      "source": [
        "<a href=\"https://colab.research.google.com/github/rudckd0103/py08/blob/master/py08_exam19_final.ipynb\" target=\"_parent\"><img src=\"https://colab.research.google.com/assets/colab-badge.svg\" alt=\"Open In Colab\"/></a>"
      ]
    },
    {
      "cell_type": "markdown",
      "metadata": {
        "colab_type": "text",
        "id": "jXMg8Cv_Q0bM"
      },
      "source": [
        "# 기말필기시험: 파이썬 활용 (2019.12.16)\n",
        "- 문제에 배점이 표시되어 있음. (총 30점)  \n",
        "```\n",
        "\n",
        "```\n"
      ]
    },
    {
      "cell_type": "markdown",
      "metadata": {
        "id": "Rc8uW2C1MAyp",
        "colab_type": "text"
      },
      "source": [
        "***\n",
        "코드에 대한 평가는 다음 기준으로 수행한다.\n",
        "1. 적절한 함수와 로직을 이용하는 능력\n",
        "2. 변수, 함수명을 명확하게 사용해서 코딩하는 능력.\n",
        "***\n",
        "```\n",
        "\n",
        "\n",
        "\n",
        "```"
      ]
    },
    {
      "cell_type": "markdown",
      "metadata": {
        "colab_type": "text",
        "id": "0g1etKblygaj"
      },
      "source": [
        "### [1: 4점] 입력으로 들어오는 모든 수의 평균 값을 계산해 주는 함수 만들기\n",
        "\n",
        "\n",
        "- 단 입력으로 들어오는 수의 개수는 정해져 있지 않다. (*args 매개변수 이용)\n",
        "- 평균 값을 구할 때 len 함수를 사용해 보자.\n",
        "    - 함수명: addMany()\n",
        "    - 함수 사용: \n",
        "        - addMany(1,2) # 3/2 출력\n",
        "        - addMany(1,2,3,4,5)  # 15/5 출력\n",
        "        \n",
        "\n",
        "```\n",
        "\n",
        "_________________________________________________________________________________________\n",
        "\n",
        "_________________________________________________________________________________________\n",
        "\n",
        "_________________________________________________________________________________________\n",
        "\n",
        "_________________________________________________________________________________________\n",
        "\n",
        "_________________________________________________________________________________________\n",
        "\n",
        "_________________________________________________________________________________________\n",
        "\n",
        "\n",
        "\n",
        "```\n"
      ]
    },
    {
      "cell_type": "code",
      "metadata": {
        "id": "isYwZUirn6wc",
        "colab_type": "code",
        "outputId": "726d20e6-4e89-48c7-a861-ea791de19ae4",
        "colab": {
          "base_uri": "https://localhost:8080/",
          "height": 53
        }
      },
      "source": [
        "def addMany(*args):\n",
        "  sum = 0\n",
        "  for i in args:\n",
        "    sum += i\n",
        "  return sum/len(args)\n",
        "\n",
        "print(addMany(1,2))\n",
        "print(addMany(1,2,3,4,5))"
      ],
      "execution_count": 0,
      "outputs": [
        {
          "output_type": "stream",
          "text": [
            "1.5\n",
            "3.0\n"
          ],
          "name": "stdout"
        }
      ]
    },
    {
      "cell_type": "markdown",
      "metadata": {
        "colab_type": "text",
        "id": "Jq9Z7qF-LAkY"
      },
      "source": [
        "### [2: 4점] MaxLimitCalculator 클래스를 만들기\n",
        "#### 메소드 재정의(overriding)\n",
        "> 객체변수 value가 500 이상의 값은 가질 수 없도록 제한. \n",
        ">> 즉 다음과 같이 동작해야 한다.\n",
        "```\n",
        "cal = MaxLimitCalculator()\n",
        "cal.add(200) # 200 더하기\n",
        "cal.add(400) # 400 더하기\n",
        "print(cal.value) # 500 출력\n",
        "```\n",
        ">> 단 반드시 다음과 같은 Calculator 클래스를 상속해서 만들어야 한다.\n",
        "\n",
        "```\n",
        "\n",
        "class Calculator:\n",
        "    def __init__(self):\n",
        "        self.value = 0\n",
        "    def add(self, val):\n",
        "        self.value += val\n",
        "        \n",
        "\n",
        "\n",
        "\n",
        "_________________________________________________________________________________________\n",
        "\n",
        "_________________________________________________________________________________________\n",
        "\n",
        "_________________________________________________________________________________________\n",
        "\n",
        "_________________________________________________________________________________________\n",
        "\n",
        "_________________________________________________________________________________________\n",
        "\n",
        "_________________________________________________________________________________________\n",
        "\n",
        "_________________________________________________________________________________________\n",
        "\n",
        "\n",
        "```\n"
      ]
    },
    {
      "cell_type": "code",
      "metadata": {
        "id": "AhLa_ZU5n_wV",
        "colab_type": "code",
        "outputId": "24539d8f-bc95-483a-8a2e-41a25079d8c7",
        "colab": {
          "base_uri": "https://localhost:8080/",
          "height": 35
        }
      },
      "source": [
        "class Calculator:\n",
        "    def __init__(self):\n",
        "        self.value = 0\n",
        "    def add(self, val):\n",
        "        self.value += val\n",
        "\n",
        "class MaxLimitCalculator(Calculator):\n",
        "    def add(self, val):\n",
        "      self.value += val\n",
        "      if self.value > 500:\n",
        "        self.value = 500\n",
        "\n",
        "cal = MaxLimitCalculator()\n",
        "cal.add(200)\n",
        "cal.add(400)\n",
        "print(cal.value)"
      ],
      "execution_count": 0,
      "outputs": [
        {
          "output_type": "stream",
          "text": [
            "500\n"
          ],
          "name": "stdout"
        }
      ]
    },
    {
      "cell_type": "markdown",
      "metadata": {
        "colab_type": "text",
        "id": "htP5M9O8OkSd"
      },
      "source": [
        "### [3: 4점] 게시판 페이징하기\n",
        "> 게시판 프로그램을 작성하고 있다.\n",
        ">> 그런데 게시물의 총 건수와 한 페이지에 보여 줄 게시물 수를 입력으로   \n",
        ">> 주었을 때 총 페이지 수를 출력하는 함수 (getTotalPageNew)를 만들어보자.   \n",
        ">>> 한 페이지에서 보여 줄 게시물 수가 최대 10  \n",
        "\n",
        "- 프로그램 예시\n",
        "\n",
        "```\n",
        "def getTotalPage(m, n):\n",
        "    if m % n == 0:\n",
        "        return m // n\n",
        "    else:\n",
        "        return m // n + 1\n",
        "\n",
        "print(getTotalPage(5, 10))  # 1\n",
        "print(getTotalPage(15, 10)) # 2\n",
        "print(getTotalPage(25, 10)) # 3\n",
        "print(getTotalPage(30, 10)) # 3\n",
        "```  \n",
        "> 최소한의 줄로 동작하는 코드를 만드시오.\n",
        "\n",
        "```\n",
        "_________________________________________________________________________________________\n",
        "\n",
        "_________________________________________________________________________________________\n",
        "\n",
        "_________________________________________________________________________________________\n",
        "\n",
        "_________________________________________________________________________________________\n",
        "\n",
        "```"
      ]
    },
    {
      "cell_type": "code",
      "metadata": {
        "id": "dFGoXqZGoQPf",
        "colab_type": "code",
        "outputId": "40b60c7a-2b66-42aa-d874-8c43aa5722da",
        "colab": {
          "base_uri": "https://localhost:8080/",
          "height": 89
        }
      },
      "source": [
        "def getTotalPage(m,n):\n",
        "  return (m-1) // n + 1\n",
        "\n",
        "print(getTotalPage(5, 10))  \n",
        "print(getTotalPage(15, 10)) \n",
        "print(getTotalPage(25, 10)) \n",
        "print(getTotalPage(30, 10))"
      ],
      "execution_count": 0,
      "outputs": [
        {
          "output_type": "stream",
          "text": [
            "1\n",
            "2\n",
            "3\n",
            "3\n"
          ],
          "name": "stdout"
        }
      ]
    },
    {
      "cell_type": "markdown",
      "metadata": {
        "colab_type": "text",
        "id": "dXdVRpfERIvx"
      },
      "source": [
        "### [4: 4점] 리스트 총합 구하기  \n",
        "> 다음은 A학급 학생의 점수를 나타내는 리스트이다.  \n",
        "> 다음 리스트에서 60점 이상 점수의 총합을 구하시오.  \n",
        "```\n",
        "A = [20, 55, 67, 82, 45, 33, 90, 87, 100, 25]\n",
        "```\n",
        "- 프로그램 예시\n",
        "\n",
        "```\n",
        "A = [20, 55, 67, 82, 45, 33, 90, 87, 100, 25]\n",
        "\n",
        "result = 0\n",
        "while A:                # A 리스트에 값이 있는 동안\n",
        "    mark = A.pop()      # A 리스트의 가장 마지막 항목을 하나씩 뽑아냄\n",
        "    if mark >= 60:      # 60점 이상의 점수만 더함\n",
        "        result += mark\n",
        "\n",
        "print(result)           # 결과 출력\n",
        "```  \n",
        "\n",
        "> 최소한의 줄로 동작하는 코드를 만드시오.\n",
        ">> filter 함수와 lambda 식을 사용하면 +alpha\n",
        "\n",
        "```\n",
        "_________________________________________________________________________________________\n",
        "\n",
        "_________________________________________________________________________________________\n",
        "\n",
        "_________________________________________________________________________________________\n",
        "\n",
        "_________________________________________________________________________________________\n",
        "\n",
        "```"
      ]
    },
    {
      "cell_type": "code",
      "metadata": {
        "id": "jOJ2UDbUoTMt",
        "colab_type": "code",
        "outputId": "111de50c-94d0-44ed-aa84-cb9ee3b2b2c6",
        "colab": {
          "base_uri": "https://localhost:8080/",
          "height": 35
        }
      },
      "source": [
        "sum = 0\n",
        "num = list(filter(lambda a: a>60, [20,55,67,82,45,33,90,87,100,25]))\n",
        "for i in num:\n",
        "  sum += i\n",
        "\n",
        "print(sum)"
      ],
      "execution_count": 0,
      "outputs": [
        {
          "output_type": "stream",
          "text": [
            "426\n"
          ],
          "name": "stdout"
        }
      ]
    },
    {
      "cell_type": "markdown",
      "metadata": {
        "colab_type": "text",
        "id": "1DNOH7kGWiPE"
      },
      "source": [
        "### [5: 4점] 한 줄 구구단 출력\n",
        "> 사용자로부터 2~9의 숫자 중 하나를 입력받아 해당 숫자의  \n",
        "> 구구단을 한 줄로 출력하는 프로그램을 작성하시오.  \n",
        "\n",
        "- 프로그램 예시\n",
        "\n",
        "```\n",
        "user_input = input(\"구구단을 출력할 숫자를 입력하세요(2~9):\")\n",
        "dan = int(user_input)       # 입력 문자열을 숫자로 변환\n",
        "for i in range(1, 10):\n",
        "    print(i*dan, end= ' ') \n",
        "\n",
        "```\n",
        "\n",
        "> 실행 예)\n",
        "```\n",
        "구구단을 출력할 숫자를 입력하세요(2~9): 2\n",
        "2 4 6 8 10 12 14 16 18\n",
        "```\n",
        "\n",
        "> 최소한의 줄로 동작하는 코드를 만드시오.\n",
        ">> 리스트 내포를 사용해보시오.\n",
        "\n",
        "```\n",
        "_________________________________________________________________________________________\n",
        "\n",
        "_________________________________________________________________________________________\n",
        "\n",
        "_________________________________________________________________________________________\n",
        "\n",
        "_________________________________________________________________________________________\n",
        "\n",
        "```\n"
      ]
    },
    {
      "cell_type": "code",
      "metadata": {
        "id": "ePi28lUBoXgH",
        "colab_type": "code",
        "outputId": "0fe5f42d-97b4-4c8b-d653-d0fa47634a01",
        "colab": {
          "base_uri": "https://localhost:8080/",
          "height": 53
        }
      },
      "source": [
        "number = input(\"구구단을 출력할 숫자를 입력하세요(2~9):\")\n",
        "result = [int(number)*x for x in range(1,10)]\n",
        "\n",
        "print(result)"
      ],
      "execution_count": 0,
      "outputs": [
        {
          "output_type": "stream",
          "text": [
            "구구단을 출력할 숫자를 입력하세요(2~9):2\n",
            "[2, 4, 6, 8, 10, 12, 14, 16, 18]\n"
          ],
          "name": "stdout"
        }
      ]
    },
    {
      "cell_type": "markdown",
      "metadata": {
        "colab_type": "text",
        "id": "o9MO9BclZdxy"
      },
      "source": [
        "### [6: 5점] 파일을 읽어서 평균값 구하고, 결과 저장하기\n",
        "\n",
        "> 다음과 같이 총 10줄로 이루어진 sample.txt 파일이 있다.   \n",
        "> sample.txt 파일의 숫자 값을 모두 읽어 총합과 평균 값을 구한 후   \n",
        "> 평균 값을 result.txt 파일에 쓰는 프로그램을 작성하시오.  \n",
        "> sample.txt\n",
        "```\n",
        "70\n",
        "60\n",
        "55\n",
        "75\n",
        "95\n",
        "90\n",
        "80\n",
        "80\n",
        "85\n",
        "100\n",
        "```\n",
        "- 프로그램 예시\n",
        "\n",
        "```\n",
        "f = open(\"sample.txt\")\n",
        "lines = f.readlines( )  # sample.txt를 줄 단위로 모두 읽는다.\n",
        "f.close( )\n",
        "\n",
        "total = 0\n",
        "for line in lines:\n",
        "    score = int(line)  # 줄에 적힌 점수를 숫자형으로 변환한다.\n",
        "    total += score\n",
        "average = total / len(lines)\n",
        "\n",
        "f = open(\"result.txt\", \"w\")\n",
        "f.write(str(average))\n",
        "f.close()\n",
        "\n",
        "```\n",
        "> readlines( )를 read() 함수로 변경해서 코드를 만드시오.\n",
        "\n",
        "```\n",
        "_________________________________________________________________________________________\n",
        "\n",
        "_________________________________________________________________________________________\n",
        "\n",
        "_________________________________________________________________________________________\n",
        "\n",
        "_________________________________________________________________________________________\n",
        "\n",
        "_________________________________________________________________________________________\n",
        "\n",
        "```"
      ]
    },
    {
      "cell_type": "code",
      "metadata": {
        "id": "l9WpmQzUoe-e",
        "colab_type": "code",
        "outputId": "f965dd4d-06d9-4e1d-efd8-15c636250f62",
        "colab": {
          "base_uri": "https://localhost:8080/",
          "height": 244
        }
      },
      "source": [
        "with open(\"sample.txt\",'r') as f:\n",
        "  lines = f.read()\n",
        "\n",
        "lines = lines.split(\"\\n\")\n",
        "\n",
        "total = 0\n",
        "for line in lines:\n",
        "  score = int(line)\n",
        "  total += score\n",
        "average = total/len(lines)\n",
        "\n",
        "with open(\"result.txt\",'w') as f:\n",
        "  f.write(str(average))\n",
        "\n",
        "with open(\"result.txt\",'r') as f:\n",
        "  lines2 = f.read()\n",
        "  print(lines2)"
      ],
      "execution_count": 1,
      "outputs": [
        {
          "output_type": "error",
          "ename": "FileNotFoundError",
          "evalue": "ignored",
          "traceback": [
            "\u001b[0;31m---------------------------------------------------------------------------\u001b[0m",
            "\u001b[0;31mFileNotFoundError\u001b[0m                         Traceback (most recent call last)",
            "\u001b[0;32m<ipython-input-1-6cb23121aece>\u001b[0m in \u001b[0;36m<module>\u001b[0;34m()\u001b[0m\n\u001b[0;32m----> 1\u001b[0;31m \u001b[0;32mwith\u001b[0m \u001b[0mopen\u001b[0m\u001b[0;34m(\u001b[0m\u001b[0;34m\"sample.txt\"\u001b[0m\u001b[0;34m,\u001b[0m\u001b[0;34m'r'\u001b[0m\u001b[0;34m)\u001b[0m \u001b[0;32mas\u001b[0m \u001b[0mf\u001b[0m\u001b[0;34m:\u001b[0m\u001b[0;34m\u001b[0m\u001b[0;34m\u001b[0m\u001b[0m\n\u001b[0m\u001b[1;32m      2\u001b[0m   \u001b[0mlines\u001b[0m \u001b[0;34m=\u001b[0m \u001b[0mf\u001b[0m\u001b[0;34m.\u001b[0m\u001b[0mread\u001b[0m\u001b[0;34m(\u001b[0m\u001b[0;34m)\u001b[0m\u001b[0;34m\u001b[0m\u001b[0;34m\u001b[0m\u001b[0m\n\u001b[1;32m      3\u001b[0m \u001b[0;34m\u001b[0m\u001b[0m\n\u001b[1;32m      4\u001b[0m \u001b[0mlines\u001b[0m \u001b[0;34m=\u001b[0m \u001b[0mlines\u001b[0m\u001b[0;34m.\u001b[0m\u001b[0msplit\u001b[0m\u001b[0;34m(\u001b[0m\u001b[0;34m\"\\n\"\u001b[0m\u001b[0;34m)\u001b[0m\u001b[0;34m\u001b[0m\u001b[0;34m\u001b[0m\u001b[0m\n\u001b[1;32m      5\u001b[0m \u001b[0;34m\u001b[0m\u001b[0m\n",
            "\u001b[0;31mFileNotFoundError\u001b[0m: [Errno 2] No such file or directory: 'sample.txt'"
          ]
        }
      ]
    },
    {
      "cell_type": "markdown",
      "metadata": {
        "colab_type": "text",
        "id": "N1IP08zaawBq"
      },
      "source": [
        "### [7: 5점] Duplicate Numbers\n",
        "\n",
        "> 0 ~ 9의 문자로 된 숫자를 입력받았을 때, 이 입력값이 0 ~ 9의 모든 숫자를  \n",
        "> 각각 한 번씩만 사용한 것인지 확인하는 함수를 작성하시오.  \n",
        "\n",
        "```\n",
        "입력 예시: 0123456789 01234 01234567890 6789012345 012322456789\n",
        "출력 예시: true false false true false\n",
        "```\n",
        "\n",
        "- 프로그램 예시\n",
        "\n",
        "```\n",
        "def chkDupNum(s):\n",
        "    result = []\n",
        "    for num in s:\n",
        "        if num not in result:\n",
        "            result.append(num)\n",
        "        else:\n",
        "            return False\n",
        "    return len(result) == 10\n",
        "\n",
        "# 실행 예\n",
        "print(chkDupNum(\"0123456789\"))      # True 리턴\n",
        "print(chkDupNum(\"01234\"))           # False 리턴\n",
        "print(chkDupNum(\"01234567890\"))     # False 리턴\n",
        "print(chkDupNum(\"6789012345\"))      # True 리턴\n",
        "print(chkDupNum(\"012322456789\"))    # False 리턴\n",
        "```\n",
        "\n",
        "> 위와 같이 작용하는 코드를 다른 방법으로 만드시오.\n",
        "\n",
        "```\n",
        "_________________________________________________________________________________________\n",
        "\n",
        "_________________________________________________________________________________________\n",
        "\n",
        "_________________________________________________________________________________________\n",
        "\n",
        "_________________________________________________________________________________________\n",
        "\n",
        "_________________________________________________________________________________________\n",
        "\n",
        "_________________________________________________________________________________________\n",
        "\n",
        "_________________________________________________________________________________________\n",
        "\n",
        "_________________________________________________________________________________________\n",
        "\n",
        "\n",
        "```\n"
      ]
    },
    {
      "cell_type": "code",
      "metadata": {
        "id": "9rSTJkn4ooP9",
        "colab_type": "code",
        "outputId": "f65f6b83-b78f-434e-a43d-ef098658d32c",
        "colab": {
          "base_uri": "https://localhost:8080/",
          "height": 107
        }
      },
      "source": [
        "def chkDupNum(s):\n",
        "  A = []\n",
        "  for a in s:\n",
        "    A.append(a)\n",
        "  \n",
        "  i = 0\n",
        "  while i < 10:\n",
        "    if i in A:\n",
        "      A.remove(i)\n",
        "      i += 1\n",
        "    else:\n",
        "      return False\n",
        "  return len(result) == 0\n",
        "\n",
        "print(chkDupNum(\"0123456789\"))     \n",
        "print(chkDupNum(\"01234\"))          \n",
        "print(chkDupNum(\"01234567890\"))     \n",
        "print(chkDupNum(\"6789012345\"))      \n",
        "print(chkDupNum(\"012322456789\"))"
      ],
      "execution_count": 0,
      "outputs": [
        {
          "output_type": "stream",
          "text": [
            "False\n",
            "False\n",
            "False\n",
            "False\n",
            "False\n"
          ],
          "name": "stdout"
        }
      ]
    },
    {
      "cell_type": "markdown",
      "metadata": {
        "id": "aefyz-CMMExW",
        "colab_type": "text"
      },
      "source": [
        "## 정답을 설명하는 파이썬 노트를 완성해서 각자의 github에 올리시오.\n",
        "- 제출기한: 12월 23일(월) 오후 11시."
      ]
    },
    {
      "cell_type": "markdown",
      "metadata": {
        "id": "IVFkw0axMf5l",
        "colab_type": "text"
      },
      "source": [
        "### 업로드 파일명: pynn_exam_final.ipynb  (pynn은 id)"
      ]
    },
    {
      "cell_type": "code",
      "metadata": {
        "id": "kLn7HRVyKF1u",
        "colab_type": "code",
        "colab": {}
      },
      "source": [
        ""
      ],
      "execution_count": 0,
      "outputs": []
    }
  ]
}